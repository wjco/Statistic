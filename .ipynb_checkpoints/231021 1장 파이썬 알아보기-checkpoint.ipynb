{
 "cells": [
  {
   "cell_type": "markdown",
   "id": "bc033425",
   "metadata": {},
   "source": [
    "# 통계 스터디\n",
    "\n",
    "2023.10.21"
   ]
  },
  {
   "cell_type": "markdown",
   "id": "bfbd8b05",
   "metadata": {},
   "source": [
    "## 책 선정\n",
    "\n",
    "파이썬을 이용한 통계분석 (통계 기초 이론 이해와 응용)\n",
    "- 저자: 이원우, 장인홍, 이다혜\n",
    "- 출판: 자유아카데미"
   ]
  },
  {
   "cell_type": "markdown",
   "id": "33d91d60",
   "metadata": {},
   "source": [
    "## 1장 파이썬 알아보기"
   ]
  },
  {
   "cell_type": "markdown",
   "id": "780d9042",
   "metadata": {},
   "source": [
    "### 1.1 파이썬이란\n",
    "\n",
    "- 무료, 간결한 구성, 오픈소스 언어"
   ]
  },
  {
   "cell_type": "markdown",
   "id": "b4d35f77",
   "metadata": {},
   "source": [
    "### 1.2 파이참 설치 및 실행하기\n",
    "\n",
    "- 저는 주피터 노트북으로 할래요~"
   ]
  },
  {
   "cell_type": "markdown",
   "id": "84688acd",
   "metadata": {},
   "source": [
    "### 1.3 주피터 노트북 사용하기\n",
    "\n",
    "#### 1.3.1 아나콘다 설치하기\n",
    "\n",
    "#### 1.3.2 주피터 노트북 실행하기"
   ]
  },
  {
   "cell_type": "markdown",
   "id": "68f4d279",
   "metadata": {},
   "source": [
    "### 1.4 구글 코랩 사용하기\n",
    "\n",
    "- 런타임 유형 변경에서 **CPU, GPU, TPU** 설정 가능\n",
    "    - TPU(Tensor Processing Unit)는 텐서 처리 장치로 딥러닝 분야에서 자주 사용\n",
    "- 주피터 노트북 기반\n",
    "- 최대 런타임 12시간"
   ]
  },
  {
   "cell_type": "markdown",
   "id": "2409c198",
   "metadata": {},
   "source": [
    "### 1.5 파이썬 기본 문법\n",
    "\n",
    "#### 1.5.1 모듈\n",
    "\n",
    "- 모듈의 집합을 패키지(package), 모듈을 함수나 클래스로 분류한 집합을 라이브러리(library)라고 함\n",
    "- import해서 사용해야 함"
   ]
  },
  {
   "cell_type": "code",
   "execution_count": 1,
   "id": "c13e7ca6",
   "metadata": {
    "ExecuteTime": {
     "end_time": "2023-10-20T15:36:27.822377Z",
     "start_time": "2023-10-20T15:36:25.868591Z"
    }
   },
   "outputs": [],
   "source": [
    "import numpy as np"
   ]
  },
  {
   "cell_type": "markdown",
   "id": "6dc1be9d",
   "metadata": {},
   "source": [
    "#### 1.5.2 데이터프레임\n",
    "\n",
    "- 표 형태로 된 자료 구조\n",
    "- 데이터프레임을 생성하는 방법\n",
    "    - ```pd.DataFrame()```\n",
    "    - ```pd.read_csv()``` 또는 ```pd.read_excel()```\n",
    "- 데이터의 윗부분부터 보는 방법은 ```df.head()```"
   ]
  },
  {
   "cell_type": "markdown",
   "id": "5416850b",
   "metadata": {},
   "source": [
    "#### 1.5.3 간단한 기능\n",
    "\n",
    "- 출력할 때에는 ```print()```, ```df.head()```, ```df.tail()``` 등 이용\n",
    "- ```df.describe()```로 데이터의 기술통계량 출력\n",
    "- 데이터 분할 및 추출하는 방법\n",
    "    - 인덱싱: ```x_1 = data['X1']```, ```x_2 = data.X2``` 등\n",
    "    - loc 인덱싱\n",
    "        - ```x_5m = data.loc[(data.Y >= 50000), ]```\n",
    "        - ```xy = data.loc[(data.Y >= 50000) & (data.X1 < 10000), ]```\n",
    "- 비교 연산자: ```>```(초과), ```<```(미만), ```>=```(이상), ```<=```(이하)\n",
    "- 논리 연산자: ```!=```(다르다), ```==```(같다), ```&```(and), ```|```(or)\n",
    "- 변수끼리 연산을 통해 새로운 변수 생성\n",
    "    - ```data.X1 * data.Y```, ```data.loc[data['X3'] < 1000, 'X4'] = 0``` 등\n",
    "    - ```data['X6'] = data['X4'].map(label)```처럼 매핑(mapping) 가능"
   ]
  },
  {
   "cell_type": "markdown",
   "id": "73f4834f",
   "metadata": {},
   "source": [
    "#### 1.5.4 도움말\n",
    "\n",
    "- 함수 끝에 물음표를 붙여서 실행 (ex. ```np.repeat?```)"
   ]
  },
  {
   "cell_type": "markdown",
   "id": "b3ae65c9",
   "metadata": {},
   "source": [
    "### 1.6 예제 파일 실행하기\n",
    "\n",
    "#### 1.6.1 파이참에서 예제 파일 실행하기\n",
    "\n",
    "#### 1.6.2 주피터 노트북에서 예제 파일 실행하기\n",
    "\n",
    "- 주피터 노트북은 '\\*.ipynb' 확장자이기 때문에 '\\*.py'를 열려면 다음과 같은 방법을 써야 함\n",
    "    - ```!python 파일명.py```\n",
    "    - ```exec(open('파일명.py').read())```\n",
    "- 다만 이 방법은 마지막 결과만을 출력\n",
    "- 주피터 노트북에서는 **셀을 구분하여 실행**하는 것이 좋음\n",
    "\n",
    "#### 1.6.3 코랩에서 예제 파일 실행하기"
   ]
  }
 ],
 "metadata": {
  "kernelspec": {
   "display_name": "Python 3 (ipykernel)",
   "language": "python",
   "name": "python3"
  },
  "language_info": {
   "codemirror_mode": {
    "name": "ipython",
    "version": 3
   },
   "file_extension": ".py",
   "mimetype": "text/x-python",
   "name": "python",
   "nbconvert_exporter": "python",
   "pygments_lexer": "ipython3",
   "version": "3.9.16"
  }
 },
 "nbformat": 4,
 "nbformat_minor": 5
}
