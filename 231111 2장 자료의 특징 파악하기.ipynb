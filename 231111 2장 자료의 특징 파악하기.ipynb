{
 "cells": [
  {
   "cell_type": "markdown",
   "id": "bc033425",
   "metadata": {},
   "source": [
    "# 통계 스터디\n",
    "\n",
    "2023.11.11"
   ]
  },
  {
   "cell_type": "markdown",
   "id": "33d91d60",
   "metadata": {},
   "source": [
    "## 2장 자료의 특징 파악하기"
   ]
  },
  {
   "cell_type": "markdown",
   "id": "0d750613",
   "metadata": {},
   "source": [
    "### 2.1 모집단과 표본\n",
    "\n",
    "- 모집단(population): 전체 대상에 대한 자료 집단\n",
    "- 표본(sample): 모집단의 일부이면서 실제로 우리가 얻는 자료\n",
    "- 모집단 전체에 대한 자료 얻기 어려움 → **모집단에 이론적으로 접근**하여 표본의 관계를 이해"
   ]
  },
  {
   "cell_type": "markdown",
   "id": "7f3f8e2a",
   "metadata": {},
   "source": [
    "### 2.2 대푯값\n",
    "\n",
    "- 대푯값을 쓰는 이유: 표본을 대표하는 값을 통해 모집단에 대해 알아내고 싶은 것을 끌어내기 위해\n",
    "\n",
    "#### 2.2.1 평균\n",
    "- 평균(mean)\n",
    "    - **가장 일반적이고 중요한 대푯값**\n",
    "    $$\\bar{x} = {{x_1 + x_2 + ... + x_n}\\over{n}}$$\n",
    "- 가중평균(weighted mean)\n",
    "    - 데이터셋의 중요한 정도가 다를 때 (ex. 대학교별 학생 규모, 품목별 물가지수 등)\n",
    "    $$\\bar{x}_w = {{w_1x_1 + w_2x_2 + ... + w_nx_n}\\over{w_1 + w_2 + ... + w_n}}$$\n",
    "\n",
    "#### 2.2.2 중위수\n",
    "- 중위수(median)\n",
    "    - 가장 가운데 위치한 값\n",
    "    - 평균과는 달리 극단값의 영향을 안 받지만, 이론적으로 딱히 쓸모있지는 않음\n",
    "- 백분위수(percentile)\n",
    "    - 작은 순서(오름차순)로 정렬해 놓았을 때 몇 %에 해당하는지?\n",
    "    - 예를 들어 작은 값 20%는 $P_{20}$\n",
    "    \n",
    "#### 2.2.3 최빈수\n",
    "- 최빈수(mode)\n",
    "    - 가장 빈번히 얻어지는 값\n",
    "    - 주로 **질적 자료**에서 이용 (ex. 자동차 색상)"
   ]
  },
  {
   "cell_type": "markdown",
   "id": "530dcee2",
   "metadata": {},
   "source": [
    "### 2.3 퍼짐의 정도\n",
    "\n",
    "#### 2.3.1 범위\n",
    "- 범위(range)\n",
    "    - 자료가 퍼져있는 구간의 크기 (ex. 15점부터 90점까지의 데이터면 $R = 75$)\n",
    "\n",
    "#### 2.3.2 사분위편차\n",
    "- 사분위수(quartile)\n",
    "    - 자료를 네 등분할 때 각 경계값 (ex. 제 1사분위수 $Q_1 = P_{25}$)\n",
    "- 사분위편차(quartile deviation)\n",
    "    - 작은 값 25%, 큰 값 25%를 제외한 **가운데 50% 자료의 범위**\n",
    "    $$Q.D. = {(Q_3 - Q_1) \\over 2}$$\n",
    "    \n",
    "#### 2.3.3 분산 또는 표준편차\n",
    "- 분산(variance)\n",
    "    - 편차를 제곱하여 자유도로 나눈 값\n",
    "    $$s^2 = {\\sum{(x_i - \\bar{x})^2} \\over n - 1}$$\n",
    "    - 제곱을 취하기 때문에 변수와의 **차원이 다름** (ex. 원$^2$ 이런 단위 들어나 봤나 ㅎㅎ;)\n",
    "- 표준편차(standard deviation)\n",
    "    - 분산의 제곱근\n",
    "    - 변수와 **동일한 차원**으로 표현됨 (분산의 단점을 보완)\n",
    "    - 제곱근으로 표현되기에 이론을 전개해 나가는 과정에서 불리\n",
    "- 편차(deviation)\n",
    "    - 표본값에서 표본평균을 뺀 것\n",
    "    - 편차의 평균은 항상 0이 됨 (...생각해 보면 당연하다!)\n",
    "- 자유도(degree of freedom)\n",
    "    - 독립적인 것의 수\n",
    "    - 표본분산 구할 때 자유도를 $n - 1$로 쓰는 이유: $n$개의 표본에서 각 편차를 구할 때, $\\bar{x}$는 정해진 값이라 **마지막 편차는 독립적이지 않음!**\n",
    "- 절대평균편차(absolute mean deviation)\n",
    "    - 편차에 절대값 씌워서 평균 매긴 것\n",
    "    - 통계적 특성이 딱히 없어서 굳이 쓰진 않음"
   ]
  },
  {
   "cell_type": "markdown",
   "id": "65405d8d",
   "metadata": {},
   "source": [
    "### 2.4 왜도와 첨도\n",
    "\n",
    "- 왜도(skewness)\n",
    "    - 분포가 대칭인지 측정해 주는 값\n",
    "    $$왜도 = {{\\sum{(x_i - \\bar{x})^3}/{n}}\\over{s^3}}$$\n",
    "        - **왜도 = 0: 좌우 대칭**\n",
    "        - 왜도 > 0: 오른쪽으로 왜곡 (왼쪽으로 치우친 개형)\n",
    "        - 왜도 < 0: 왼쪽으로 왜곡 (오른쪽으로 치우친 개형)\n",
    "    - 편차 세제곱 합을 이용\n",
    "- 첨도(kurtosis)\n",
    "    - 분포가 얼마나 뾰족한지 나타내는 값\n",
    "    $$첨도 = {{\\sum{(x_i - \\bar{x})^4}/{n}}\\over{s^4}} - 3$$\n",
    "        - 첨도 > 0: 정규분포보다 뾰족\n",
    "        - 첨도 < 0: 정규분포보다 완만\n",
    "    - 편차 네제곱 합을 이용"
   ]
  },
  {
   "cell_type": "markdown",
   "id": "f431a798",
   "metadata": {},
   "source": [
    "---"
   ]
  },
  {
   "cell_type": "markdown",
   "id": "4d35eb70",
   "metadata": {},
   "source": [
    "### [예제 2.1]\n",
    "\n",
    "60개의 정수형 자료에 대한 기술통계량 구하기"
   ]
  },
  {
   "cell_type": "code",
   "execution_count": 1,
   "id": "82c64f4b",
   "metadata": {
    "ExecuteTime": {
     "end_time": "2023-11-17T17:16:22.302152Z",
     "start_time": "2023-11-17T17:16:21.364438Z"
    }
   },
   "outputs": [
    {
     "data": {
      "text/html": [
       "<div>\n",
       "<style scoped>\n",
       "    .dataframe tbody tr th:only-of-type {\n",
       "        vertical-align: middle;\n",
       "    }\n",
       "\n",
       "    .dataframe tbody tr th {\n",
       "        vertical-align: top;\n",
       "    }\n",
       "\n",
       "    .dataframe thead th {\n",
       "        text-align: right;\n",
       "    }\n",
       "</style>\n",
       "<table border=\"1\" class=\"dataframe\">\n",
       "  <thead>\n",
       "    <tr style=\"text-align: right;\">\n",
       "      <th></th>\n",
       "      <th>number</th>\n",
       "    </tr>\n",
       "  </thead>\n",
       "  <tbody>\n",
       "    <tr>\n",
       "      <th>count</th>\n",
       "      <td>60.000000</td>\n",
       "    </tr>\n",
       "    <tr>\n",
       "      <th>mean</th>\n",
       "      <td>113.583333</td>\n",
       "    </tr>\n",
       "    <tr>\n",
       "      <th>std</th>\n",
       "      <td>11.378379</td>\n",
       "    </tr>\n",
       "    <tr>\n",
       "      <th>min</th>\n",
       "      <td>84.000000</td>\n",
       "    </tr>\n",
       "    <tr>\n",
       "      <th>25%</th>\n",
       "      <td>108.000000</td>\n",
       "    </tr>\n",
       "    <tr>\n",
       "      <th>50%</th>\n",
       "      <td>112.000000</td>\n",
       "    </tr>\n",
       "    <tr>\n",
       "      <th>75%</th>\n",
       "      <td>118.500000</td>\n",
       "    </tr>\n",
       "    <tr>\n",
       "      <th>max</th>\n",
       "      <td>166.000000</td>\n",
       "    </tr>\n",
       "  </tbody>\n",
       "</table>\n",
       "</div>"
      ],
      "text/plain": [
       "           number\n",
       "count   60.000000\n",
       "mean   113.583333\n",
       "std     11.378379\n",
       "min     84.000000\n",
       "25%    108.000000\n",
       "50%    112.000000\n",
       "75%    118.500000\n",
       "max    166.000000"
      ]
     },
     "execution_count": 1,
     "metadata": {},
     "output_type": "execute_result"
    }
   ],
   "source": [
    "import pandas as pd\n",
    "\n",
    "ex_df = pd.read_csv('데이터 파일/ex2-1.csv')\n",
    "ex_df.describe()"
   ]
  },
  {
   "cell_type": "markdown",
   "id": "1031336a",
   "metadata": {},
   "source": [
    "- 대푯값\n",
    "    - 평균: 113.58\n",
    "    - 중앙값: 112\n",
    "- 퍼짐의 정도\n",
    "    - 사분위범위: 10.5\n",
    "    - 분산: ```std ** 2```\n",
    "    - 표준편차: 11.38"
   ]
  },
  {
   "cell_type": "markdown",
   "id": "8407ee5e",
   "metadata": {},
   "source": [
    "---"
   ]
  },
  {
   "cell_type": "markdown",
   "id": "e002efb5",
   "metadata": {},
   "source": [
    "### 2.5 도수분포표"
   ]
  },
  {
   "cell_type": "markdown",
   "id": "1e61884d",
   "metadata": {},
   "source": [
    "- 도수(frequency)\n",
    "    - 분포되어 있는 개수 (ex. ```df.value_counts()```)\n",
    "- 도수분포표\n",
    "    - 도수로 만든 표 (...)"
   ]
  },
  {
   "cell_type": "code",
   "execution_count": 2,
   "id": "685cd877",
   "metadata": {
    "ExecuteTime": {
     "end_time": "2023-11-17T17:16:24.499618Z",
     "start_time": "2023-11-17T17:16:24.451893Z"
    },
    "scrolled": true
   },
   "outputs": [
    {
     "name": "stdout",
     "output_type": "stream",
     "text": [
      "계급: [15.5 18.5 21.5 24.5 27.5 30.5 33.5]\n"
     ]
    }
   ],
   "source": [
    "import numpy as np\n",
    "\n",
    "freq_df = pd.read_csv('데이터 파일/2.5.csv')\n",
    "freq, bins = np.histogram(freq_df, bins=6, range=(15.5, 33.5))\n",
    "print(f\"계급: {bins}\")"
   ]
  },
  {
   "cell_type": "markdown",
   "id": "beb2def9",
   "metadata": {},
   "source": [
    "- 정수 자료이기 때문에 **계급을 소수 단위로 구성**하면 이상, 이하를 표시하지 않아도 됨!"
   ]
  },
  {
   "cell_type": "code",
   "execution_count": 3,
   "id": "294535d6",
   "metadata": {
    "ExecuteTime": {
     "end_time": "2023-11-17T17:16:25.937991Z",
     "start_time": "2023-11-17T17:16:25.899997Z"
    }
   },
   "outputs": [
    {
     "data": {
      "text/html": [
       "<div>\n",
       "<style scoped>\n",
       "    .dataframe tbody tr th:only-of-type {\n",
       "        vertical-align: middle;\n",
       "    }\n",
       "\n",
       "    .dataframe tbody tr th {\n",
       "        vertical-align: top;\n",
       "    }\n",
       "\n",
       "    .dataframe thead th {\n",
       "        text-align: right;\n",
       "    }\n",
       "</style>\n",
       "<table border=\"1\" class=\"dataframe\">\n",
       "  <thead>\n",
       "    <tr style=\"text-align: right;\">\n",
       "      <th></th>\n",
       "      <th>도수</th>\n",
       "    </tr>\n",
       "  </thead>\n",
       "  <tbody>\n",
       "    <tr>\n",
       "      <th>15.5~18.5</th>\n",
       "      <td>7</td>\n",
       "    </tr>\n",
       "    <tr>\n",
       "      <th>18.5~21.5</th>\n",
       "      <td>11</td>\n",
       "    </tr>\n",
       "    <tr>\n",
       "      <th>21.5~24.5</th>\n",
       "      <td>23</td>\n",
       "    </tr>\n",
       "    <tr>\n",
       "      <th>24.5~27.5</th>\n",
       "      <td>19</td>\n",
       "    </tr>\n",
       "    <tr>\n",
       "      <th>27.5~30.5</th>\n",
       "      <td>14</td>\n",
       "    </tr>\n",
       "    <tr>\n",
       "      <th>30.5~33.5</th>\n",
       "      <td>8</td>\n",
       "    </tr>\n",
       "  </tbody>\n",
       "</table>\n",
       "</div>"
      ],
      "text/plain": [
       "           도수\n",
       "15.5~18.5   7\n",
       "18.5~21.5  11\n",
       "21.5~24.5  23\n",
       "24.5~27.5  19\n",
       "27.5~30.5  14\n",
       "30.5~33.5   8"
      ]
     },
     "execution_count": 3,
     "metadata": {},
     "output_type": "execute_result"
    }
   ],
   "source": [
    "# 도수분포표\n",
    "freq_class = []\n",
    "for i in range(len(bins) - 1):\n",
    "    freq_class.append(f\"{bins[i]}~{bins[i + 1]}\")\n",
    "    \n",
    "freq_table = pd.DataFrame({'도수': freq}, index=freq_class)\n",
    "freq_table"
   ]
  },
  {
   "cell_type": "markdown",
   "id": "a919d715",
   "metadata": {},
   "source": [
    "- 도수분포표를 통해 얻을 수 있는 그림\n",
    "    - 히스토그램(histogram): 도수를 막대그래프 형태로 시각화\n",
    "    - 도수다각형(frequency polygon): 각 계급의 중앙값을 직선으로 연결\n",
    "    - 도수분포도(frequency distribution): 도수다각형을 부드러운 곡선으로 연결\n",
    "    - 누적도수분포도(cumulative frequency distribution): 누적도수를 연결\n",
    "- 상대도수(relative frequency)\n",
    "    - 전체에 대한 도수의 비율\n",
    "    - 백분율(%)로 표현되기에 **확률분포와 같은 개념**으로 이해 가능"
   ]
  },
  {
   "cell_type": "code",
   "execution_count": 4,
   "id": "f452ae44",
   "metadata": {
    "ExecuteTime": {
     "end_time": "2023-11-17T17:17:40.341548Z",
     "start_time": "2023-11-17T17:17:40.290212Z"
    }
   },
   "outputs": [
    {
     "data": {
      "text/html": [
       "<div>\n",
       "<style scoped>\n",
       "    .dataframe tbody tr th:only-of-type {\n",
       "        vertical-align: middle;\n",
       "    }\n",
       "\n",
       "    .dataframe tbody tr th {\n",
       "        vertical-align: top;\n",
       "    }\n",
       "\n",
       "    .dataframe thead th {\n",
       "        text-align: right;\n",
       "    }\n",
       "</style>\n",
       "<table border=\"1\" class=\"dataframe\">\n",
       "  <thead>\n",
       "    <tr style=\"text-align: right;\">\n",
       "      <th></th>\n",
       "      <th>도수</th>\n",
       "      <th>상대도수</th>\n",
       "      <th>누적상대도수</th>\n",
       "    </tr>\n",
       "  </thead>\n",
       "  <tbody>\n",
       "    <tr>\n",
       "      <th>15.5~18.5</th>\n",
       "      <td>7</td>\n",
       "      <td>0.085366</td>\n",
       "      <td>0.085366</td>\n",
       "    </tr>\n",
       "    <tr>\n",
       "      <th>18.5~21.5</th>\n",
       "      <td>11</td>\n",
       "      <td>0.134146</td>\n",
       "      <td>0.219512</td>\n",
       "    </tr>\n",
       "    <tr>\n",
       "      <th>21.5~24.5</th>\n",
       "      <td>23</td>\n",
       "      <td>0.280488</td>\n",
       "      <td>0.500000</td>\n",
       "    </tr>\n",
       "    <tr>\n",
       "      <th>24.5~27.5</th>\n",
       "      <td>19</td>\n",
       "      <td>0.231707</td>\n",
       "      <td>0.731707</td>\n",
       "    </tr>\n",
       "    <tr>\n",
       "      <th>27.5~30.5</th>\n",
       "      <td>14</td>\n",
       "      <td>0.170732</td>\n",
       "      <td>0.902439</td>\n",
       "    </tr>\n",
       "    <tr>\n",
       "      <th>30.5~33.5</th>\n",
       "      <td>8</td>\n",
       "      <td>0.097561</td>\n",
       "      <td>1.000000</td>\n",
       "    </tr>\n",
       "  </tbody>\n",
       "</table>\n",
       "</div>"
      ],
      "text/plain": [
       "           도수      상대도수    누적상대도수\n",
       "15.5~18.5   7  0.085366  0.085366\n",
       "18.5~21.5  11  0.134146  0.219512\n",
       "21.5~24.5  23  0.280488  0.500000\n",
       "24.5~27.5  19  0.231707  0.731707\n",
       "27.5~30.5  14  0.170732  0.902439\n",
       "30.5~33.5   8  0.097561  1.000000"
      ]
     },
     "execution_count": 4,
     "metadata": {},
     "output_type": "execute_result"
    }
   ],
   "source": [
    "# 상대도수\n",
    "r_freq = freq / freq.sum()\n",
    "\n",
    "# 누적상대도수\n",
    "cum_r_freq = np.cumsum(r_freq)\n",
    "\n",
    "freq_table['상대도수'] = r_freq\n",
    "freq_table['누적상대도수'] = cum_r_freq\n",
    "freq_table"
   ]
  },
  {
   "cell_type": "markdown",
   "id": "beb4c1b1",
   "metadata": {},
   "source": [
    "```np.cumsum()```은 **누적 합**을 계산한다!"
   ]
  }
 ],
 "metadata": {
  "kernelspec": {
   "display_name": "Python 3 (ipykernel)",
   "language": "python",
   "name": "python3"
  },
  "language_info": {
   "codemirror_mode": {
    "name": "ipython",
    "version": 3
   },
   "file_extension": ".py",
   "mimetype": "text/x-python",
   "name": "python",
   "nbconvert_exporter": "python",
   "pygments_lexer": "ipython3",
   "version": "3.9.16"
  }
 },
 "nbformat": 4,
 "nbformat_minor": 5
}
